{
 "cells": [
  {
   "cell_type": "markdown",
   "metadata": {},
   "source": [
    "# Self-Driving Car Engineer Nanodegree\n",
    "\n",
    "## Deep Learning\n",
    "\n",
    "## Project: Build a Traffic Sign Recognition Classifier\n",
    "\n",
    "In this notebook, a template is provided for you to implement your functionality in stages, which is required to successfully complete this project. If additional code is required that cannot be included in the notebook, be sure that the Python code is successfully imported and included in your submission if necessary. \n",
    "\n",
    "> **Note**: Once you have completed all of the code implementations, you need to finalize your work by exporting the iPython Notebook as an HTML document. Before exporting the notebook to html, all of the code cells need to have been run so that reviewers can see the final implementation and output. You can then export the notebook by using the menu above and navigating to  \\n\",\n",
    "    \"**File -> Download as -> HTML (.html)**. Include the finished document along with this notebook as your submission. \n",
    "\n",
    "In addition to implementing code, there is a writeup to complete. The writeup should be completed in a separate file, which can be either a markdown file or a pdf document. There is a [write up template](https://github.com/udacity/CarND-Traffic-Sign-Classifier-Project/blob/master/writeup_template.md) that can be used to guide the writing process. Completing the code template and writeup template will cover all of the [rubric points](https://review.udacity.com/#!/rubrics/481/view) for this project.\n",
    "\n",
    "The [rubric](https://review.udacity.com/#!/rubrics/481/view) contains \"Stand Out Suggestions\" for enhancing the project beyond the minimum requirements. The stand out suggestions are optional. If you decide to pursue the \"stand out suggestions\", you can include the code in this Ipython notebook and also discuss the results in the writeup file.\n",
    "\n",
    "\n",
    ">**Note:** Code and Markdown cells can be executed using the **Shift + Enter** keyboard shortcut. In addition, Markdown cells can be edited by typically double-clicking the cell to enter edit mode."
   ]
  },
  {
   "cell_type": "markdown",
   "metadata": {},
   "source": [
    "---\n",
    "## Step 0: Load The Data"
   ]
  },
  {
   "cell_type": "code",
   "execution_count": 16,
   "metadata": {},
   "outputs": [],
   "source": [
    "# Load pickled data\n",
    "import pickle\n",
    "\n",
    "# TODO: Fill this in based on where you saved the training and testing data\n",
    "\n",
    "training_file = \"train.p\"\n",
    "validation_file=\"valid.p\"\n",
    "testing_file = \"test.p\"\n",
    "\n",
    "with open(training_file, mode='rb') as f:\n",
    "    train = pickle.load(f)\n",
    "with open(validation_file, mode='rb') as f:\n",
    "    valid = pickle.load(f)\n",
    "with open(testing_file, mode='rb') as f:\n",
    "    test = pickle.load(f)\n",
    "    \n",
    "X_train, y_train = train['features'], train['labels']\n",
    "X_valid, y_valid = valid['features'], valid['labels']\n",
    "X_test, y_test = test['features'], test['labels']"
   ]
  },
  {
   "cell_type": "markdown",
   "metadata": {},
   "source": [
    "---\n",
    "\n",
    "## Step 1: Dataset Summary & Exploration\n",
    "\n",
    "The pickled data is a dictionary with 4 key/value pairs:\n",
    "\n",
    "- `'features'` is a 4D array containing raw pixel data of the traffic sign images, (num examples, width, height, channels).\n",
    "- `'labels'` is a 1D array containing the label/class id of the traffic sign. The file `signnames.csv` contains id -> name mappings for each id.\n",
    "- `'sizes'` is a list containing tuples, (width, height) representing the original width and height the image.\n",
    "- `'coords'` is a list containing tuples, (x1, y1, x2, y2) representing coordinates of a bounding box around the sign in the image. **THESE COORDINATES ASSUME THE ORIGINAL IMAGE. THE PICKLED DATA CONTAINS RESIZED VERSIONS (32 by 32) OF THESE IMAGES**\n",
    "\n",
    "Complete the basic data summary below. Use python, numpy and/or pandas methods to calculate the data summary rather than hard coding the results. For example, the [pandas shape method](http://pandas.pydata.org/pandas-docs/stable/generated/pandas.DataFrame.shape.html) might be useful for calculating some of the summary results. "
   ]
  },
  {
   "cell_type": "markdown",
   "metadata": {},
   "source": [
    "### Provide a Basic Summary of the Data Set Using Python, Numpy and/or Pandas"
   ]
  },
  {
   "cell_type": "code",
   "execution_count": 17,
   "metadata": {},
   "outputs": [
    {
     "name": "stdout",
     "output_type": "stream",
     "text": [
      "Number of training examples = 34799\n",
      "Number of validation examples = 4410\n",
      "Number of testing examples = 12630\n",
      "Image data shape = (32, 32, 3)\n",
      "Number of classes = 43\n"
     ]
    }
   ],
   "source": [
    "### Replace each question mark with the appropriate value. \n",
    "### Use python, pandas or numpy methods rather than hard coding the results\n",
    "import numpy as np\n",
    "# TODO: Number of training examples\n",
    "n_train = len(X_train)\n",
    "\n",
    "# TODO: Number of validation examples\n",
    "n_validation = len(X_valid)\n",
    "\n",
    "# TODO: Number of testing examples.\n",
    "n_test = len(X_test)\n",
    "\n",
    "# TODO: What's the shape of an traffic sign image?\n",
    "image_shape = X_train[0].shape\n",
    "\n",
    "# TODO: How many unique classes/labels there are in the dataset.\n",
    "# TODO: How many unique classes/labels there are in the dataset.\n",
    "n_classes = len(np.unique(y_train))\n",
    "\n",
    "print(\"Number of training examples =\", n_train)\n",
    "print(\"Number of validation examples =\", n_validation)\n",
    "print(\"Number of testing examples =\", n_test)\n",
    "print(\"Image data shape =\", image_shape)\n",
    "print(\"Number of classes =\", n_classes)"
   ]
  },
  {
   "cell_type": "markdown",
   "metadata": {},
   "source": [
    "### Include an exploratory visualization of the dataset"
   ]
  },
  {
   "cell_type": "markdown",
   "metadata": {},
   "source": [
    "Visualize the German Traffic Signs Dataset using the pickled file(s). This is open ended, suggestions include: plotting traffic sign images, plotting the count of each sign, etc. \n",
    "\n",
    "The [Matplotlib](http://matplotlib.org/) [examples](http://matplotlib.org/examples/index.html) and [gallery](http://matplotlib.org/gallery.html) pages are a great resource for doing visualizations in Python.\n",
    "\n",
    "**NOTE:** It's recommended you start with something simple first. If you wish to do more, come back to it after you've completed the rest of the sections. It can be interesting to look at the distribution of classes in the training, validation and test set. Is the distribution the same? Are there more examples of some classes than others?"
   ]
  },
  {
   "cell_type": "code",
   "execution_count": 18,
   "metadata": {},
   "outputs": [
    {
     "data": {
      "image/png": "[encoded data removed]",
      "text/plain": [
       "<Figure size 432x288 with 3 Axes>"
      ]
     },
     "metadata": {},
     "output_type": "display_data"
    }
   ],
   "source": [
    "### Data exploration visualization code goes here.\n",
    "### Feel free to use as many code cells as needed.\n",
    "import matplotlib.pyplot as plt\n",
    "import random\n",
    "# Visualizations will be shown in the notebook.\n",
    "%matplotlib inline\n",
    "\n",
    "\n",
    "### plot the histogram of the train/validation/test dataset\n",
    "plt.subplot(311)\n",
    "plt.hist(y_train,bins=n_classes)\n",
    "plt.title(\"train datashet histogram\")\n",
    "\n",
    "plt.subplot(312)\n",
    "plt.hist(y_valid,bins=n_classes)\n",
    "plt.title(\"valid datashet histogram\")\n",
    "\n",
    "plt.subplot(313)\n",
    "plt.hist(y_test,bins=n_classes)\n",
    "plt.title(\"test datashet histogram\")\n",
    "plt.savefig('Visulization.png')\n",
    "plt.show()\n",
    "\n",
    "index = random.randint(0, n_train)\n",
    "\n",
    "### plot a traffic sign image\n",
    "def signshow(X, Y, index, filename = None):\n",
    "    print(\"index: \", index)\n",
    "    image = np.squeeze(X[index])\n",
    "\n",
    "    plt.figure(figsize = (1,1))\n",
    "    if filename:\n",
    "        plt.imsave(filename+\".png\", image)\n",
    "        print(\"save file to \", filename+\".png\")\n",
    "    plt.imshow(image)\n",
    "    print(\"label: \", Y[index])\n",
    "    print(\"shape: \", X[index].shape)\n"
   ]
  },
  {
   "cell_type": "markdown",
   "metadata": {},
   "source": [
    "----\n",
    "\n",
    "## Step 2: Design and Test a Model Architecture\n",
    "\n",
    "Design and implement a deep learning model that learns to recognize traffic signs. Train and test your model on the [German Traffic Sign Dataset](http://benchmark.ini.rub.de/?section=gtsrb&subsection=dataset).\n",
    "\n",
    "The LeNet-5 implementation shown in the [classroom](https://classroom.udacity.com/nanodegrees/nd013/parts/fbf77062-5703-404e-b60c-95b78b2f3f9e/modules/6df7ae49-c61c-4bb2-a23e-6527e69209ec/lessons/601ae704-1035-4287-8b11-e2c2716217ad/concepts/d4aca031-508f-4e0b-b493-e7b706120f81) at the end of the CNN lesson is a solid starting point. You'll have to change the number of classes and possibly the preprocessing, but aside from that it's plug and play! \n",
    "\n",
    "With the LeNet-5 solution from the lecture, you should expect a validation set accuracy of about 0.89. To meet specifications, the validation set accuracy will need to be at least 0.93. It is possible to get an even higher accuracy, but 0.93 is the minimum for a successful project submission. \n",
    "\n",
    "There are various aspects to consider when thinking about this problem:\n",
    "\n",
    "- Neural network architecture (is the network over or underfitting?)\n",
    "- Play around preprocessing techniques (normalization, rgb to grayscale, etc)\n",
    "- Number of examples per label (some have more than others).\n",
    "- Generate fake data.\n",
    "\n",
    "Here is an example of a [published baseline model on this problem](http://yann.lecun.com/exdb/publis/pdf/sermanet-ijcnn-11.pdf). It's not required to be familiar with the approach used in the paper but, it's good practice to try to read papers like these."
   ]
  },
  {
   "cell_type": "markdown",
   "metadata": {},
   "source": [
    "### Pre-process the Data Set (normalization, grayscale, etc.)"
   ]
  },
  {
   "cell_type": "markdown",
   "metadata": {},
   "source": [
    "Minimally, the image data should be normalized so that the data has mean zero and equal variance. For image data, `(pixel - 128)/ 128` is a quick way to approximately normalize the data and can be used in this project. \n",
    "\n",
    "Other pre-processing steps are optional. You can try different techniques to see if it improves performance. \n",
    "\n",
    "Use the code cell (or multiple code cells, if necessary) to implement the first step of your project."
   ]
  },
  {
   "cell_type": "code",
   "execution_count": 19,
   "metadata": {},
   "outputs": [],
   "source": [
    "### Preprocess the data here. It is required to normalize the data. Other preprocessing steps could include \n",
    "### converting to grayscale, etc.\n",
    "### Feel free to use as many code cells as needed.\n",
    "\n",
    "def gray_scale(x):\n",
    "    return np.dot(x, [0.2989, 0.5870, 0.1140])\n",
    "\n",
    "def normalize(x):\n",
    "    return (x-128.0)/128.0\n",
    "\n",
    "def preprocess(x):\n",
    "    output = gray_scale(x)\n",
    "    output = normalize(output)\n",
    "    output = output.reshape(-1,32,32,1)\n",
    "    print(\"shape: \", output.shape)    \n",
    "    return output\n",
    "\n"
   ]
  },
  {
   "cell_type": "code",
   "execution_count": 20,
   "metadata": {},
   "outputs": [
    {
     "name": "stdout",
     "output_type": "stream",
     "text": [
      "index:  11567\n",
      "save file to  original.png\n",
      "label:  9\n",
      "shape:  (32, 32, 3)\n",
      "shape:  (34799, 32, 32, 1)\n",
      "shape:  (4410, 32, 32, 1)\n",
      "shape:  (12630, 32, 32, 1)\n",
      "index:  11567\n",
      "save file to  preprocess.png\n",
      "label:  9\n",
      "shape:  (32, 32, 1)\n"
     ]
    },
    {
     "data": {
      "image/png": "[encoded data removed]",
      "text/plain": [
       "<Figure size 72x72 with 1 Axes>"
      ]
     },
     "metadata": {},
     "output_type": "display_data"
    },
    {
     "data": {
      "image/png": "[encoded data removed]",
      "text/plain": [
       "<Figure size 72x72 with 1 Axes>"
      ]
     },
     "metadata": {},
     "output_type": "display_data"
    }
   ],
   "source": [
    "### show the image\n",
    "### prepross the train/validation/test dataset\n",
    "    \n",
    "signshow(X_train, y_train, index, \"original\")\n",
    "X_train=preprocess(X_train)\n",
    "X_valid=preprocess(X_valid)\n",
    "X_test=preprocess(X_test)\n",
    "\n",
    "signshow(X_train, y_train, index, \"preprocess\")"
   ]
  },
  {
   "cell_type": "code",
   "execution_count": 6,
   "metadata": {
    "collapsed": true
   },
   "outputs": [],
   "source": [
    "from sklearn.utils import shuffle\n",
    "\n",
    "X_train, y_train = shuffle(X_train, y_train)"
   ]
  },
  {
   "cell_type": "markdown",
   "metadata": {},
   "source": [
    "### Model Architecture"
   ]
  },
  {
   "cell_type": "code",
   "execution_count": 7,
   "metadata": {
    "collapsed": true
   },
   "outputs": [],
   "source": [
    "### Define your architecture here.\n",
    "### Feel free to use as many code cells as needed.\n",
    "def lenet(x, dropout):\n",
    "    mean = 0.0\n",
    "    dev = 0.1\n",
    "    convw1 = tf.Variable(tf.truncated_normal(shape=(5,5,1,6), mean=mean, stddev=dev))\n",
    "    convb1 = tf.Variable(tf.zeros(6))\n",
    "    \n",
    "    convw2 = tf.Variable(tf.truncated_normal(shape=(5,5,6,16), mean=mean, stddev=dev))\n",
    "    convb2 = tf.Variable(tf.zeros(16))\n",
    "    \n",
    "    convstride = [1,1,1,1]\n",
    "    poolfilter = [1,2,2,1]\n",
    "    poolstride = [1,2,2,1]\n",
    "    \n",
    "    fw1 = tf.Variable(tf.truncated_normal(shape=(400, 120), mean=mean, stddev=dev))\n",
    "    fb1 = tf.Variable(tf.zeros(120))\n",
    "    \n",
    "    fw2 = tf.Variable(tf.truncated_normal(shape=(120, 84), mean=mean, stddev=dev))\n",
    "    fb2 = tf.Variable(tf.zeros(84))\n",
    "    \n",
    "    fw3 = tf.Variable(tf.truncated_normal(shape=(84, 43), mean=mean, stddev=dev))\n",
    "    fb3 = tf.Variable(tf.zeros(43))\n",
    "    \n",
    "    ## change size from 32*32*3 to 28*28*6\n",
    "    convout1 = tf.nn.conv2d(x, convw1, strides=convstride, padding=\"VALID\") + convb1\n",
    "    # activate function\n",
    "    convout1 = tf.nn.relu(convout1)\n",
    "    ## change size from 28*28*6 to 14*14*6\n",
    "    poolout1 = tf.nn.max_pool(convout1, ksize=poolfilter, strides=poolstride, padding=\"VALID\")\n",
    "    ## dropout\n",
    "    poolout1 = tf.nn.dropout(poolout1, keep_prob = dropout)\n",
    "    \n",
    "    \n",
    "     ## change size from 14*14*6 to 10*10*16\n",
    "    convout2 = tf.nn.conv2d(poolout1, convw2, strides=convstride, padding=\"VALID\") + convb2\n",
    "    # activate function\n",
    "    convout2 = tf.nn.relu(convout2)\n",
    "    ## change size from 10*10*16 to 5*5*16\n",
    "    poolout2 = tf.nn.max_pool(convout2, ksize=poolfilter, strides=poolstride, padding=\"VALID\")\n",
    "    ## dropout\n",
    "    poolout2 = tf.nn.dropout(poolout2, keep_prob = dropout)\n",
    "    \n",
    "    # flatten the image to batch_size * 400\n",
    "    flatt = tf.contrib.layers.flatten(poolout2)\n",
    "    #print(\"after flatten, shape: \", tf.shape(flatt))\n",
    "    # full connect layer\n",
    "    ## connect a 120 connector\n",
    "    fl1 = tf.matmul(flatt, fw1) + fb1\n",
    "    fl1 = tf.nn.relu(fl1)\n",
    "    ## dropout\n",
    "    fl1 = tf.nn.dropout(fl1, keep_prob = dropout)\n",
    "    \n",
    "    ## connect a 84 connector\n",
    "    fl2 = tf.matmul(fl1, fw2) + fb2\n",
    "    fl2 = tf.nn.relu(fl2)\n",
    "    ## dropout\n",
    "    fl2 = tf.nn.dropout(fl2, keep_prob = dropout)\n",
    "    \n",
    "    ## connect a 43 connector\n",
    "    output = tf.matmul(fl2, fw3) + fb3\n",
    "    #output = tf.nn.relu(output)\n",
    "    #output = tf.nn.dropout(output, keep_prob = dropout)\n",
    "    \n",
    "    return output"
   ]
  },
  {
   "cell_type": "markdown",
   "metadata": {},
   "source": [
    "### Train, Validate and Test the Model"
   ]
  },
  {
   "cell_type": "markdown",
   "metadata": {},
   "source": [
    "A validation set can be used to assess how well the model is performing. A low accuracy on the training and validation\n",
    "sets imply underfitting. A high accuracy on the training set but low accuracy on the validation set implies overfitting."
   ]
  },
  {
   "cell_type": "code",
   "execution_count": 8,
   "metadata": {
    "collapsed": true
   },
   "outputs": [],
   "source": [
    "### Train your model here.\n",
    "### Calculate and report the accuracy on the training and validation set.\n",
    "### Once a final model architecture is selected, \n",
    "### the accuracy on the test set should be calculated and reported as well.\n",
    "### Feel free to use as many code cells as needed.\n",
    "import tensorflow as tf\n",
    "\n",
    "EPOCHS = 10\n",
    "batch_size =128\n",
    "\n",
    "\n",
    "x = tf.placeholder(tf.float32, (None, 32, 32, 1))\n",
    "y = tf.placeholder(tf.int32, (None))\n",
    "dropout = tf.placeholder(tf.float32)\n",
    "one_hot = tf.one_hot(y, n_classes)\n",
    "\n",
    "n_batch = n_train//batch_size\n",
    "\n",
    "logits = lenet(x,dropout)\n",
    "cross = tf.nn.softmax_cross_entropy_with_logits(labels=one_hot, logits=logits)\n",
    "loss = tf.reduce_mean(cross)\n",
    "optimizer = tf.train.AdamOptimizer(learning_rate=0.001)\n",
    "training_operation = optimizer.minimize(loss)"
   ]
  },
  {
   "cell_type": "code",
   "execution_count": 9,
   "metadata": {
    "collapsed": true
   },
   "outputs": [],
   "source": [
    "correct_prediction = tf.equal(tf.argmax(logits, 1), tf.argmax(one_hot, 1))\n",
    "accuracy_operation = tf.reduce_mean(tf.cast(correct_prediction, tf.float32))\n",
    "\n",
    "\n",
    "def evaluate(X_data, y_data):\n",
    "    num_examples = len(X_data)\n",
    "    total_accuracy = 0\n",
    "    sess = tf.get_default_session()\n",
    "    for offset in range(0, num_examples, batch_size):\n",
    "        batch_x, batch_y = X_data[offset:offset+batch_size], y_data[offset:offset+batch_size]\n",
    "        accuracy = sess.run(accuracy_operation, feed_dict={x: batch_x, y: batch_y, dropout:1.0})\n",
    "        total_accuracy += (accuracy * len(batch_x))\n",
    "    return total_accuracy / num_examples"
   ]
  },
  {
   "cell_type": "code",
   "execution_count": 10,
   "metadata": {},
   "outputs": [
    {
     "name": "stdout",
     "output_type": "stream",
     "text": [
      "Training...\n",
      "Epochs 1...\n",
      "Train accuracy: 0.710\n",
      "Validation accuracy: 0.655\n",
      "Train loss: 1.395\n",
      "Epochs 2...\n",
      "Train accuracy: 0.879\n",
      "Validation accuracy: 0.808\n",
      "Train loss: 0.902\n",
      "Epochs 3...\n",
      "Train accuracy: 0.922\n",
      "Validation accuracy: 0.859\n",
      "Train loss: 0.717\n",
      "Epochs 4...\n",
      "Train accuracy: 0.945\n",
      "Validation accuracy: 0.889\n",
      "Train loss: 0.510\n",
      "Epochs 5...\n",
      "Train accuracy: 0.962\n",
      "Validation accuracy: 0.910\n",
      "Train loss: 0.474\n",
      "Epochs 6...\n",
      "Train accuracy: 0.970\n",
      "Validation accuracy: 0.929\n",
      "Train loss: 0.338\n",
      "Epochs 7...\n",
      "Train accuracy: 0.977\n",
      "Validation accuracy: 0.939\n",
      "Train loss: 0.365\n",
      "Epochs 8...\n",
      "Train accuracy: 0.981\n",
      "Validation accuracy: 0.937\n",
      "Train loss: 0.300\n",
      "Epochs 9...\n",
      "Train accuracy: 0.982\n",
      "Validation accuracy: 0.946\n",
      "Train loss: 0.294\n",
      "Epochs 10...\n",
      "Train accuracy: 0.984\n",
      "Validation accuracy: 0.944\n",
      "Train loss: 0.259\n",
      "Test accuracy: 0.927\n",
      "Model saved\n"
     ]
    },
    {
     "data": {
      "image/png": "[encoded data removed]",
      "text/plain": [
       "<matplotlib.figure.Figure at 0x7f650e6522b0>"
      ]
     },
     "metadata": {},
     "output_type": "display_data"
    },
    {
     "data": {
      "image/png": "[encoded data removed]",
      "text/plain": [
       "<matplotlib.figure.Figure at 0x7f653079be80>"
      ]
     },
     "metadata": {},
     "output_type": "display_data"
    }
   ],
   "source": [
    "from sklearn.utils import shuffle\n",
    "import matplotlib.pyplot as plt\n",
    "\n",
    "train_acc_array = []\n",
    "valid_acc_array = []\n",
    "\n",
    "train_loss_array = []\n",
    "valid_loss_array = []\n",
    "\n",
    "with tf.Session() as sess:\n",
    "    sess.run(tf.global_variables_initializer())\n",
    "    #sess.run(tf.global_variables_initializer())\n",
    "    print(\"Training...\")\n",
    "    for j in range(EPOCHS):\n",
    "        X_train,y_train = shuffle(X_train, y_train)\n",
    "        offset = 0\n",
    "        for i in range(n_batch):\n",
    "            #print(offset)\n",
    "            x_batch = X_train[offset:offset+batch_size]\n",
    "            y_batch = y_train[offset:offset+batch_size]\n",
    "            _,train_loss = sess.run([training_operation, loss], feed_dict = {x: x_batch, y:y_batch, dropout:0.8})\n",
    "            offset = offset + batch_size\n",
    "            \n",
    "        train_accur = evaluate(X_train, y_train) \n",
    "        train_acc_array.append(train_accur)\n",
    "        valid_accur = evaluate(X_valid, y_valid)\n",
    "        valid_acc_array.append(valid_accur) \n",
    "        print(\"Epochs {}...\".format(j+1))\n",
    "        print(\"Train accuracy: {:.3f}\".format(train_accur))\n",
    "        print(\"Validation accuracy: {:.3f}\".format(valid_accur))\n",
    "        \n",
    "        train_loss_array.append(train_loss)\n",
    "        print(\"Train loss: {:.3f}\".format(train_loss))\n",
    "        \n",
    "    # test dataset accuracy\n",
    "    test_accur = evaluate(X_test, y_test)\n",
    "    print(\"Test accuracy: {:.3f}\".format(test_accur))\n",
    "\n",
    "    \n",
    "    try: \n",
    "        saver\n",
    "    except NameError:\n",
    "        saver = tf.train.Saver()\n",
    "    saver.save(sess,\"mynet\")\n",
    "    print(\"Model saved\")\n",
    "    \n",
    "#plot the accuracy of train and validation set\n",
    "plt.subplot(211)\n",
    "plt.plot(train_acc_array,\"r\", valid_acc_array, \"g\")\n",
    "plt.axis([0,10,0,1.0])\n",
    "plt.ylabel(\"Accuracy\")\n",
    "plt.title(\"Accuracy: Red: Train; Green: validation\")\n",
    "plt.show()\n",
    "\n",
    "#plot the loss of train set\n",
    "plt.subplot(212)\n",
    "plt.plot(train_loss_array,\"r\")\n",
    "plt.ylabel(\"Loss\")\n",
    "plt.title(\"Loss: Red: Train\")\n",
    "plt.show()"
   ]
  },
  {
   "cell_type": "markdown",
   "metadata": {},
   "source": [
    "---\n",
    "\n",
    "## Step 3: Test a Model on New Images\n",
    "\n",
    "To give yourself more insight into how your model is working, download at least five pictures of German traffic signs from the web and use your model to predict the traffic sign type.\n",
    "\n",
    "You may find `signnames.csv` useful as it contains mappings from the class id (integer) to the actual sign name."
   ]
  },
  {
   "cell_type": "markdown",
   "metadata": {},
   "source": [
    "### Load and Output the Images"
   ]
  },
  {
   "cell_type": "code",
   "execution_count": 21,
   "metadata": {},
   "outputs": [
    {
     "name": "stdout",
     "output_type": "stream",
     "text": [
      "test-image/label01.ppm\n",
      "shape:  (45, 42, 3)\n",
      "after padding, shape;  (32, 32, 3)\n",
      "test-image/label00.ppm\n",
      "shape:  (33, 31, 3)\n",
      "after padding, shape;  (32, 32, 3)\n",
      "test-image/label14.ppm\n",
      "shape:  (39, 40, 3)\n",
      "after padding, shape;  (32, 32, 3)\n",
      "test-image/label07.ppm\n",
      "shape:  (49, 48, 3)\n",
      "after padding, shape;  (32, 32, 3)\n",
      "test-image/label34.ppm\n",
      "shape:  (47, 50, 3)\n",
      "after padding, shape;  (32, 32, 3)\n",
      "number of new image:  5\n",
      "New_train shape:  (5, 32, 32, 3)\n"
     ]
    },
    {
     "data": {
      "image/png": "[encoded data removed]",
      "text/plain": [
       "<Figure size 432x288 with 5 Axes>"
      ]
     },
     "metadata": {},
     "output_type": "display_data"
    }
   ],
   "source": [
    "### Load the images and plot them here.\n",
    "### Feel free to use as many code cells as needed.\n",
    "import matplotlib.pyplot as plt\n",
    "import numpy as np\n",
    "import glob\n",
    "\n",
    "### Change_size function for change image size to 32x32\n",
    "def change_size(x, size):\n",
    "    shape = x.shape\n",
    "    print(\"shape: \", shape)\n",
    "    if shape[0] > size:\n",
    "        offset = (shape[0]-size)//2\n",
    "        x=x[offset:offset+size, : ]\n",
    "    elif shape[0] < size:\n",
    "        offset = size - shape[0]\n",
    "        x=np.pad(x, ((0, offset),), mode='constant')\n",
    "        \n",
    "        \n",
    "    if shape[1] > size:\n",
    "        offset = (shape[1]-size)//2\n",
    "        output=x[: , offset:offset+size]\n",
    "    elif shape[1] < size:\n",
    "        offset = size - shape[1]\n",
    "        #only pad y axis\n",
    "        output=np.pad(x, [(0,0),(0, 1),(0,0)], mode='constant')\n",
    "        \n",
    "    print(\"after padding, shape; \", output.shape)\n",
    "    return output\n",
    "\n",
    "image = ()\n",
    "New_train = []\n",
    "path = \"test-image\"\n",
    "\n",
    "n_new =0\n",
    "for filename in glob.glob(path+\"/*.ppm\"):\n",
    "    print(filename)\n",
    "    n_new+=1\n",
    "    image = plt.imread(filename)\n",
    "    plt.subplot(5,1,n_new)\n",
    "    plt.imshow(image)\n",
    "    new_image = change_size(image, 32)\n",
    "    New_train.append(new_image)\n",
    "    \n",
    "print(\"number of new image: \", n_new)\n",
    "New_train=np.array(New_train)\n",
    "print(\"New_train shape: \", New_train.shape)\n",
    "\n",
    "\n"
   ]
  },
  {
   "cell_type": "markdown",
   "metadata": {},
   "source": [
    "### Predict the Sign Type for Each Image"
   ]
  },
  {
   "cell_type": "code",
   "execution_count": 22,
   "metadata": {},
   "outputs": [
    {
     "name": "stdout",
     "output_type": "stream",
     "text": [
      "shape:  (5, 32, 32, 1)\n",
      "index:  1\n",
      "save file to  newimage.png\n",
      "label:  14\n",
      "shape:  (32, 32, 1)\n",
      "New label:  [ 7 14  1 34  0]\n",
      "New train type float32\n"
     ]
    },
    {
     "data": {
      "image/png": "[encoded data removed]",
      "text/plain": [
       "<Figure size 72x72 with 1 Axes>"
      ]
     },
     "metadata": {},
     "output_type": "display_data"
    }
   ],
   "source": [
    "### Run the predictions here and use the model to output the prediction for each image.\n",
    "### Make sure to pre-process the images with the same pre-processing pipeline used earlier.\n",
    "### Feel free to use as many code cells as needed.\n",
    "\n",
    "### Prepross the image\n",
    "New_train=preprocess(New_train)\n",
    "New_train=New_train.astype(np.float32)\n",
    "New_label=[7,14,1,34,0]\n",
    "New_label=np.array(New_label)\n",
    "New_label=New_label.astype(int)\n",
    "index = 1\n",
    "signshow(New_train, New_label, index, \"newimage\")\n",
    "print(\"New label: \", New_label)\n",
    "print(\"New train type\", New_train.dtype)\n"
   ]
  },
  {
   "cell_type": "code",
   "execution_count": 31,
   "metadata": {},
   "outputs": [
    {
     "name": "stdout",
     "output_type": "stream",
     "text": [
      "predict logits:  [[ -2.47115779   2.42352104  -0.35483006  -2.44897699  -5.29267788\n",
      "    0.68386334   0.7144829   -0.53924245  -3.33104014  -6.31326675\n",
      "   -2.43904328  -0.02748995  -0.99230671  -2.03114223  -3.8745563\n",
      "   -7.02129984  -4.22149324  -8.0343771   -1.765733    -9.03389645\n",
      "   -3.47893906  -4.83523369 -11.31988716  -4.88823128  -5.29430723\n",
      "   -1.80231011  -4.17387962  -6.02510262  -0.65925431  -4.12136459\n",
      "   -3.10537434  -5.60734701  -2.69576502  -4.02132463  -4.37263393\n",
      "   -3.22091985  -6.3058219   -4.5373683   -0.31052893  -9.34959888\n",
      "    1.04919064  -2.32938743   0.18286376]\n",
      " [ -5.02757359   1.97230637   2.798563    -1.09869409  -2.30857086\n",
      "   -0.52770084  -4.01248932  -6.92857838  -5.62057877  -5.39228296\n",
      "   -4.77272224  -6.28274441  -1.15289867  -2.09936714   8.42699909\n",
      "   -2.39437866 -15.16950035  -0.92058706  -2.70989728  -9.66562748\n",
      "   -6.65912247  -5.41014194  -3.86797428  -4.93215227 -10.51764107\n",
      "   -1.56713259  -2.72170544 -13.37321281  -6.0435009   -3.63064432\n",
      "   -4.66267347  -3.11834288  -2.35362625  -3.07378912  -2.0605073\n",
      "   -6.1944232   -4.65565586  -3.13340735   4.37627649  -1.94841504\n",
      "   -3.11522722  -6.79453564  -8.27691174]\n",
      " [ -4.80568743   1.50543439  -5.08612919  -9.47011757 -10.78708553\n",
      "   -7.38066864  -1.22909355 -15.39249611 -14.26686573 -12.70028114\n",
      "  -12.08634949  -2.80433559  -2.67460442  -7.83017492  -1.81812024\n",
      "  -12.66148758 -14.65632153  -8.3306036    1.52658188 -16.4990406\n",
      "   -4.57862568 -10.64626503 -11.97012234  -3.50648308  -7.52628756\n",
      "    1.18973088  -1.54838324  -8.99351311  -3.04355526  -4.05086327\n",
      "   -3.96408105 -10.91929722  -1.27958214 -13.8556633   -2.98317957\n",
      "   -8.31940651  -1.84071541  -4.67202473   7.27211046 -19.41038132\n",
      "    2.55303049  -0.44788218  -6.10899305]\n",
      " [ -1.76857805   1.24957418  -5.50290537  -9.36663151  -7.33634329\n",
      "   -8.68848419  -6.56273699  -7.47419214  -5.29944801  -3.98940539\n",
      "  -10.75792408  -4.49243689  -1.37721503  -1.57773328   4.35658789\n",
      "   -6.38561106  -8.91641998   6.64583111  -9.12165928 -11.08102798\n",
      "  -10.90593624  -8.77169514  -8.28169155  -4.72495222 -14.21723652\n",
      "   -9.18681526  -4.7088728  -19.1490097   -7.57514524  -6.15073156\n",
      "   -2.65194249 -13.12353134  -4.61741352  -6.38602877   2.01846409\n",
      "   -8.10621262 -10.34627724   2.07122779  -1.46028364  -9.79819298\n",
      "    3.1740005   -5.29626226  -8.0889473 ]\n",
      " [  9.96439743   8.60156918   2.54859519  -1.32139277   4.72108841\n",
      "    2.75968385  -0.18625967   1.28673005   5.55308437  -9.73195171\n",
      "  -12.31852722 -13.95809364  -8.54514313 -10.67972469  -4.7912221\n",
      "   -5.45958567  -4.19781637  -7.51194668  -9.40652752 -11.26914692\n",
      "  -10.07474804 -14.20659828 -16.71997261 -12.28820515 -10.45974541\n",
      "  -12.67183018  -7.71144962 -15.42122078  -5.90158081  -5.09429169\n",
      "  -16.62247086  -8.51029205  -3.15045047 -10.3776226  -14.56198692\n",
      "   -8.46549225  -6.86959076  -8.4217701   -3.77098489 -10.24005985\n",
      "   -1.93380046  -9.58100605 -11.82494259]]\n"
     ]
    }
   ],
   "source": [
    "## restore the checkpoint\n",
    "import tensorflow as tf\n",
    "\n",
    "with tf.Session() as sess:\n",
    "    new_saver = tf.train.import_meta_graph('mynet.meta')\n",
    "    new_saver.restore(sess, tf.train.latest_checkpoint('./'))\n",
    "    ### use the model to predict every image\n",
    "    predicted_logits = sess.run(logits, feed_dict={x: New_train, dropout:1.0})\n",
    "    print(\"predict logits: \", predicted_logits)\n"
   ]
  },
  {
   "cell_type": "markdown",
   "metadata": {},
   "source": [
    "### Analyze Performance"
   ]
  },
  {
   "cell_type": "code",
   "execution_count": 32,
   "metadata": {},
   "outputs": [
    {
     "name": "stdout",
     "output_type": "stream",
     "text": [
      "Test Accuracy = 0.400\n",
      "Validate accuracy: 0.944\n",
      "\n"
     ]
    }
   ],
   "source": [
    "### Calculate the accuracy for these 5 new images. \n",
    "### For example, if the model predicted 1 out of 5 signs correctly, it's 20% accurate on these new images.\n",
    "with tf.Session() as sess:\n",
    "    ### restore the latest checkpoint\n",
    "    new_saver = tf.train.import_meta_graph('mynet.meta')\n",
    "    new_saver.restore(sess, tf.train.latest_checkpoint('./'))\n",
    "    ### calulate the accuracy of New_train image\n",
    "    test_accuracy = evaluate(New_train.astype(np.float32), New_label)\n",
    "    print(\"Test Accuracy = {:.3f}\".format(test_accuracy))\n",
    "    ### check the accuracy of validation set. compare with previous cell\n",
    "    valid_accur = evaluate(X_valid, y_valid)\n",
    "    print(\"Validate accuracy: {:.3f}\".format(valid_accur))  \n",
    "    print()"
   ]
  },
  {
   "cell_type": "markdown",
   "metadata": {},
   "source": [
    "### Output Top 5 Softmax Probabilities For Each Image Found on the Web"
   ]
  },
  {
   "cell_type": "markdown",
   "metadata": {},
   "source": [
    "For each of the new images, print out the model's softmax probabilities to show the **certainty** of the model's predictions (limit the output to the top 5 probabilities for each image). [`tf.nn.top_k`](https://www.tensorflow.org/versions/r0.12/api_docs/python/nn.html#top_k) could prove helpful here. \n",
    "\n",
    "The example below demonstrates how tf.nn.top_k can be used to find the top k predictions for each image.\n",
    "\n",
    "`tf.nn.top_k` will return the values and indices (class ids) of the top k predictions. So if k=3, for each sign, it'll return the 3 largest probabilities (out of a possible 43) and the correspoding class ids.\n",
    "\n",
    "Take this numpy array as an example. The values in the array represent predictions. The array contains softmax probabilities for five candidate images with six possible classes. `tf.nn.top_k` is used to choose the three classes with the highest probability:\n",
    "\n",
    "```\n",
    "# (5, 6) array\n",
    "a = np.array([[ 0.24879643,  0.07032244,  0.12641572,  0.34763842,  0.07893497,\n",
    "         0.12789202],\n",
    "       [ 0.28086119,  0.27569815,  0.08594638,  0.0178669 ,  0.18063401,\n",
    "         0.15899337],\n",
    "       [ 0.26076848,  0.23664738,  0.08020603,  0.07001922,  0.1134371 ,\n",
    "         0.23892179],\n",
    "       [ 0.11943333,  0.29198961,  0.02605103,  0.26234032,  0.1351348 ,\n",
    "         0.16505091],\n",
    "       [ 0.09561176,  0.34396535,  0.0643941 ,  0.16240774,  0.24206137,\n",
    "         0.09155967]])\n",
    "```\n",
    "\n",
    "Running it through `sess.run(tf.nn.top_k(tf.constant(a), k=3))` produces:\n",
    "\n",
    "```\n",
    "TopKV2(values=array([[ 0.34763842,  0.24879643,  0.12789202],\n",
    "       [ 0.28086119,  0.27569815,  0.18063401],\n",
    "       [ 0.26076848,  0.23892179,  0.23664738],\n",
    "       [ 0.29198961,  0.26234032,  0.16505091],\n",
    "       [ 0.34396535,  0.24206137,  0.16240774]]), indices=array([[3, 0, 5],\n",
    "       [0, 1, 4],\n",
    "       [0, 5, 1],\n",
    "       [1, 3, 5],\n",
    "       [1, 4, 3]], dtype=int32))\n",
    "```\n",
    "\n",
    "Looking just at the first row we get `[ 0.34763842,  0.24879643,  0.12789202]`, you can confirm these are the 3 largest probabilities in `a`. You'll also notice `[3, 0, 5]` are the corresponding indices."
   ]
  },
  {
   "cell_type": "code",
   "execution_count": 34,
   "metadata": {},
   "outputs": [
    {
     "name": "stdout",
     "output_type": "stream",
     "text": [
      "Tok_result:  TopKV2(values=array([[ 2.42352104,  1.04919064,  0.7144829 ,  0.68386334,  0.18286376],\n",
      "       [ 8.42699909,  4.37627649,  2.798563  ,  1.97230637, -0.52770084],\n",
      "       [ 7.27211046,  2.55303049,  1.52658188,  1.50543439,  1.18973088],\n",
      "       [ 6.64583111,  4.35658789,  3.1740005 ,  2.07122779,  2.01846409],\n",
      "       [ 9.96439743,  8.60156918,  5.55308437,  4.72108841,  2.75968385]], dtype=float32), indices=array([[ 1, 40,  6,  5, 42],\n",
      "       [14, 38,  2,  1,  5],\n",
      "       [38, 40, 18,  1, 25],\n",
      "       [17, 14, 40, 37, 34],\n",
      "       [ 0,  1,  8,  4,  5]], dtype=int32))\n"
     ]
    }
   ],
   "source": [
    "### Print out the top five softmax probabilities for the predictions on the German traffic sign images found on the web. \n",
    "### Feel free to use as many code cells as needed.\n",
    "### For example, if the model predicted 1 out of 5 signs correctly, it's 20% accurate on these new images.\n",
    "### New_label=[7,14,1,34,0]\n",
    "with tf.Session() as sess:\n",
    "    ### Need restore the latest checkpoint here or not???\n",
    "    new_saver = tf.train.import_meta_graph('mynet.meta')\n",
    "    new_saver.restore(sess, tf.train.latest_checkpoint('./'))\n",
    "    ### calulate the accuracy of New_train image\n",
    "    tok_result = sess.run(tf.nn.top_k(tf.constant(predicted_logits), k=5))\n",
    "    print(\"Tok_result: \",tok_result)\n"
   ]
  },
  {
   "cell_type": "markdown",
   "metadata": {},
   "source": [
    "### Project Writeup\n",
    "\n",
    "Once you have completed the code implementation, document your results in a project writeup using this [template](https://github.com/udacity/CarND-Traffic-Sign-Classifier-Project/blob/master/writeup_template.md) as a guide. The writeup can be in a markdown or pdf file. "
   ]
  },
  {
   "cell_type": "markdown",
   "metadata": {},
   "source": [
    "> **Note**: Once you have completed all of the code implementations and successfully answered each question above, you may finalize your work by exporting the iPython Notebook as an HTML document. You can do this by using the menu above and navigating to  \\n\",\n",
    "    \"**File -> Download as -> HTML (.html)**. Include the finished document along with this notebook as your submission."
   ]
  },
  {
   "cell_type": "markdown",
   "metadata": {},
   "source": [
    "---\n",
    "\n",
    "## Step 4 (Optional): Visualize the Neural Network's State with Test Images\n",
    "\n",
    " This Section is not required to complete but acts as an additional excersise for understaning the output of a neural network's weights. While neural networks can be a great learning device they are often referred to as a black box. We can understand what the weights of a neural network look like better by plotting their feature maps. After successfully training your neural network you can see what it's feature maps look like by plotting the output of the network's weight layers in response to a test stimuli image. From these plotted feature maps, it's possible to see what characteristics of an image the network finds interesting. For a sign, maybe the inner network feature maps react with high activation to the sign's boundary outline or to the contrast in the sign's painted symbol.\n",
    "\n",
    " Provided for you below is the function code that allows you to get the visualization output of any tensorflow weight layer you want. The inputs to the function should be a stimuli image, one used during training or a new one you provided, and then the tensorflow variable name that represents the layer's state during the training process, for instance if you wanted to see what the [LeNet lab's](https://classroom.udacity.com/nanodegrees/nd013/parts/fbf77062-5703-404e-b60c-95b78b2f3f9e/modules/6df7ae49-c61c-4bb2-a23e-6527e69209ec/lessons/601ae704-1035-4287-8b11-e2c2716217ad/concepts/d4aca031-508f-4e0b-b493-e7b706120f81) feature maps looked like for it's second convolutional layer you could enter conv2 as the tf_activation variable.\n",
    "\n",
    "For an example of what feature map outputs look like, check out NVIDIA's results in their paper [End-to-End Deep Learning for Self-Driving Cars](https://devblogs.nvidia.com/parallelforall/deep-learning-self-driving-cars/) in the section Visualization of internal CNN State. NVIDIA was able to show that their network's inner weights had high activations to road boundary lines by comparing feature maps from an image with a clear path to one without. Try experimenting with a similar test to show that your trained network's weights are looking for interesting features, whether it's looking at differences in feature maps from images with or without a sign, or even what feature maps look like in a trained network vs a completely untrained one on the same sign image.\n",
    "\n",
    "<figure>\n",
    " <img src=\"visualize_cnn.png\" width=\"380\" alt=\"Combined Image\" />\n",
    " <figcaption>\n",
    " <p></p> \n",
    " <p style=\"text-align: center;\"> Your output should look something like this (above)</p> \n",
    " </figcaption>\n",
    "</figure>\n",
    " <p></p> \n"
   ]
  },
  {
   "cell_type": "code",
   "execution_count": null,
   "metadata": {
    "collapsed": true
   },
   "outputs": [],
   "source": [
    "### Visualize your network's feature maps here.\n",
    "### Feel free to use as many code cells as needed.\n",
    "\n",
    "# image_input: the test image being fed into the network to produce the feature maps\n",
    "# tf_activation: should be a tf variable name used during your training procedure that represents the calculated state of a specific weight layer\n",
    "# activation_min/max: can be used to view the activation contrast in more detail, by default matplot sets min and max to the actual min and max values of the output\n",
    "# plt_num: used to plot out multiple different weight feature map sets on the same block, just extend the plt number for each new feature map entry\n",
    "\n",
    "def outputFeatureMap(image_input, tf_activation, activation_min=-1, activation_max=-1 ,plt_num=1):\n",
    "    # Here make sure to preprocess your image_input in a way your network expects\n",
    "    # with size, normalization, ect if needed\n",
    "    # image_input =\n",
    "    # Note: x should be the same name as your network's tensorflow data placeholder variable\n",
    "    # If you get an error tf_activation is not defined it may be having trouble accessing the variable from inside a function\n",
    "    activation = tf_activation.eval(session=sess,feed_dict={x : image_input})\n",
    "    featuremaps = activation.shape[3]\n",
    "    plt.figure(plt_num, figsize=(15,15))\n",
    "    for featuremap in range(featuremaps):\n",
    "        plt.subplot(6,8, featuremap+1) # sets the number of feature maps to show on each row and column\n",
    "        plt.title('FeatureMap ' + str(featuremap)) # displays the feature map number\n",
    "        if activation_min != -1 & activation_max != -1:\n",
    "            plt.imshow(activation[0,:,:, featuremap], interpolation=\"nearest\", vmin =activation_min, vmax=activation_max, cmap=\"gray\")\n",
    "        elif activation_max != -1:\n",
    "            plt.imshow(activation[0,:,:, featuremap], interpolation=\"nearest\", vmax=activation_max, cmap=\"gray\")\n",
    "        elif activation_min !=-1:\n",
    "            plt.imshow(activation[0,:,:, featuremap], interpolation=\"nearest\", vmin=activation_min, cmap=\"gray\")\n",
    "        else:\n",
    "            plt.imshow(activation[0,:,:, featuremap], interpolation=\"nearest\", cmap=\"gray\")"
   ]
  }
 ],
 "metadata": {
  "anaconda-cloud": {},
  "kernelspec": {
   "display_name": "Python 3",
   "language": "python",
   "name": "python3"
  },
  "language_info": {
   "codemirror_mode": {
    "name": "ipython",
    "version": 3
   },
   "file_extension": ".py",
   "mimetype": "text/x-python",
   "name": "python",
   "nbconvert_exporter": "python",
   "pygments_lexer": "ipython3",
   "version": "3.5.2"
  },
  "widgets": {
   "state": {},
   "version": "1.1.2"
  }
 },
 "nbformat": 4,
 "nbformat_minor": 1
}
